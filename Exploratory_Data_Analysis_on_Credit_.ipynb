{
  "metadata": {
    "kernelspec": {
      "language": "python",
      "display_name": "Python 3",
      "name": "python3"
    },
    "language_info": {
      "pygments_lexer": "ipython3",
      "nbconvert_exporter": "python",
      "version": "3.6.4",
      "file_extension": ".py",
      "codemirror_mode": {
        "name": "ipython",
        "version": 3
      },
      "name": "python",
      "mimetype": "text/x-python"
    },
    "kaggle": {
      "accelerator": "none",
      "dataSources": [],
      "isInternetEnabled": true,
      "language": "python",
      "sourceType": "notebook",
      "isGpuEnabled": false
    },
    "colab": {
      "provenance": []
    }
  },
  "nbformat_minor": 0,
  "nbformat": 4,
  "cells": [
    {
      "cell_type": "markdown",
      "source": [
        "\n",
        "**<h1>Exploratory Data Analysis on Credit:</h1>**\n",
        "Approach Using SQL in Amazon S3 and Athena Environment.\n",
        "\n"
      ],
      "metadata": {
        "id": "6wptpuGifmhb"
      }
    },
    {
      "cell_type": "markdown",
      "source": [
        "# **Context.**\n",
        "\n",
        "In this analysis, we delve into the universe of banking data, revealing essential nuances about customers. Through columns spanning from demographic to behavioral information such as age, gender, salary, and transaction history, our exploration aims to decipher patterns and trends. Using SQL as a tool, we seek valuable insights to enhance strategies, understand customer behavior, and shape strategic decisions in the constantly evolving financial landscape.\n"
      ],
      "metadata": {
        "id": "HShjlnUHfmhe"
      }
    },
    {
      "cell_type": "markdown",
      "source": [
        "# **Data Collection.**\n",
        "\n",
        "The data was made available at: https://github.com/andre-marcos-perez/ebac-course-utils/tree/main/dataset"
      ],
      "metadata": {
        "id": "BTJtWgQwfmhf"
      }
    },
    {
      "cell_type": "markdown",
      "source": [
        "# **Data Structure.**\n",
        "\n",
        "The data provides details about bank customers and includes the following columns:\n",
        "\n",
        "- age = customer's age\n",
        "- gender = customer's gender (F or M)\n",
        "- dependents = number of dependents of the customer\n",
        "- education = customer's level of education\n",
        "- annual_salary = customer's salary range\n",
        "- card_type = customer's card type\n",
        "- products_quantity = quantity of products purchased in the last 12 months\n",
        "- interactions_12m = number of interactions/transactions in the last 12 months\n",
        "- months_inactive_12m = number of months the customer remained inactive\n",
        "- credit_limit = customer's credit limit\n",
        "- transaction_value_12m = value of transactions in the last 12 months\n",
        "- transactions_quantity_12m = quantity of transactions in the last 12 months"
      ],
      "metadata": {
        "id": "Mz1LgBsafmhg"
      }
    },
    {
      "cell_type": "markdown",
      "source": [
        "# **Initial Data Exploration.**\n",
        "\n",
        "To understand the state of our file, let's query the number of entries present in the file.\n",
        "With the query **select count(*) from credit**, we can observe a total of 2564 rows.\n",
        "\n",
        "![](https://github.com/luizkrawiec/imagens-kaggle-AED-credito/blob/main/query%201.jpg?raw=true)"
      ],
      "metadata": {
        "id": "_R8WLdrzfmhg"
      }
    },
    {
      "cell_type": "markdown",
      "source": [
        "# **Data Typing.**\n",
        "\n",
        "Correct data typing plays a crucial role in obtaining precise and meaningful insights during exploratory analysis. By employing the DESCRIBE function to examine the properties and descriptive statistics of each column, we ensure that information is interpreted appropriately. The appropriate choice of data types not only facilitates efficient data handling but also ensures the integrity of analytical operations, avoiding distortions or misconceptions. The data description process becomes a valuable tool when types are accurate, allowing for a deeper understanding of the individual characteristics of each variable and consequently contributing to a more robust and reliable analysis.\n",
        "With the query **DESCRIBE** credit, we have the complete typing of all columns.\n",
        "\n",
        "![](https://github.com/luizkrawiec/imagens-kaggle-AED-credito/blob/main/query%202%20describe.jpg?raw=true)"
      ],
      "metadata": {
        "id": "gsOpcBRLfmhh"
      }
    },
    {
      "cell_type": "markdown",
      "source": [
        "# Now that we have the data typing in hand, let's understand the **categorical variables.**"
      ],
      "metadata": {
        "id": "e_s13kdlfmhh"
      }
    },
    {
      "cell_type": "markdown",
      "source": [
        "Let's find out how many types of **education** we have in our file, with the query **SELECT DISTINCT education FROM credit**.\n",
        "\n",
        "![](https://github.com/luizkrawiec/imagens-kaggle-AED-credito/blob/main/query%203%20-%20%20escolaridade.jpg?raw=true)"
      ],
      "metadata": {
        "id": "g1t8kvh5fmhh"
      }
    },
    {
      "cell_type": "markdown",
      "source": [
        "Unique types of the **marital_status** column in the file.\n",
        "\n",
        "With the query **SELECT DISTINCT marital_status FROM credit**, we have:\n",
        "\n",
        "![](https://github.com/luizkrawiec/imagens-kaggle-AED-credito/blob/main/query%204%20-%20%20estado%20civil.jpg?raw=true)"
      ],
      "metadata": {
        "id": "PIWIC3Rrfmhi"
      }
    },
    {
      "cell_type": "markdown",
      "source": [
        "Unique types of the **annual_salary** column in the file.\n",
        "\n",
        "With the query **SELECT DISTINCT annual_salary FROM credit**, we have:\n",
        "\n",
        "![](https://github.com/luizkrawiec/imagens-kaggle-AED-credito/blob/main/query%205%20-%20%20salario_anual.jpg?raw=true)"
      ],
      "metadata": {
        "id": "qKUFIJi1fmhi"
      }
    },
    {
      "cell_type": "markdown",
      "source": [
        "Unique types of the **card_type** column in the file.\n",
        "\n",
        "With the query **SELECT DISTINCT card_type FROM credit**, we have:\n",
        "\n",
        "![](https://github.com/luizkrawiec/imagens-kaggle-AED-credito/blob/main/query%206%20-%20%20tipo%20cart%C3%A3o.jpg?raw=true)"
      ],
      "metadata": {
        "id": "qVhnaRQWfmhi"
      }
    },
    {
      "cell_type": "markdown",
      "source": [
        "After performing this exploratory step on the categorical variables, we can notice that all categorical variables have NA values except for the **card_type** column. The presence of \"NA\" values in a dataset can occur for various reasons, including: **Data Collection Failure, Errors during Transmission or Storage,** or in **Data Processing.**"
      ],
      "metadata": {
        "id": "T5w_UizOfmhj"
      }
    },
    {
      "cell_type": "markdown",
      "source": [
        "# **Data Analysis.**\n",
        "\n",
        "After exploring the data and seeking to understand the information in the provided database, we can perform analyses to understand what is happening in the database. Let's analyze aspects related to the business.\n"
      ],
      "metadata": {
        "id": "QO1DxPzcfmhj"
      }
    },
    {
      "cell_type": "markdown",
      "source": [
        "\n",
        "1 - Annual salary range of customers by quantity.\n",
        "Query: select count(*), annual_salary from credit group by annual_salary\n",
        "\n",
        "![](https://github.com/luizkrawiec/imagens-kaggle-AED-credito/blob/main/query%207%20faixa%20salarial%20clientes.jpg?raw=true)\n",
        "\n",
        "- Through the image above, we notice that the majority of customers registered in this database have an income below 40 thousand, and there are 235 customers for whom the salary range was not provided or is not registered. In a certain sense, it may be advantageous for the company to focus on this lower-income segment of the audience."
      ],
      "metadata": {
        "id": "XatsCDgafmhk"
      }
    },
    {
      "cell_type": "markdown",
      "source": [
        "# **2 - Quantity of men and women in the dataset**.\n",
        "\n",
        "Query: **select count(*), gender from credit group by gender**\n",
        "\n",
        "![](https://github.com/luizkrawiec/imagens-kaggle-AED-credito/blob/main/query%208%20sexo.jpg?raw=true)\n",
        "\n",
        "- The predominance of customers in this database is male. Based on the CSV file containing the data, it is feasible to create a pie chart to visualize more clearly the proportion between male and female genders."
      ],
      "metadata": {
        "id": "7K7D20UYfmhk"
      }
    },
    {
      "cell_type": "markdown",
      "source": [
        "# **3 - Overview of ages**\n",
        "\n",
        "Query: **select avg(age) as average_age, min(age) as min_age, max(age) as max_age, gender from credit group by gender**\n",
        "\n",
        "![](https://github.com/luizkrawiec/imagens-kaggle-AED-credito/blob/main/query%209%20idade.jpg?raw=true)\n",
        "\n",
        "- This analysis did not reveal significant information. The minimum age is the same for both genders, and the average is quite similar. The only discrepancy observed is in the maximum age, but this fact is almost irrelevant since the difference is not significant."
      ],
      "metadata": {
        "id": "I80yh4Qafmhk"
      }
    },
    {
      "cell_type": "markdown",
      "source": [
        "# **4 - Profile of customers with the highest credit limits.**\n",
        "\n",
        "Query: **select max(credit_limit) as credit_limit, education, card_type, gender from credit where education != 'na' and card_type != 'na' group by education, card_type, gender order by credit_limit desc limit 10**\n",
        "\n",
        "![](https://github.com/luizkrawiec/imagens-kaggle-AED-credito/blob/main/query%2010%20perfil%20clientes%20maiores%20creditos.jpg?raw=true)\n",
        "\n",
        "- There doesn't seem to be a correlation between the level of education and the credit limit. The highest limit is granted to a man with no formal education. Additionally, there doesn't appear to be a clear association between card type and education or credit limit. Among the highest limits, we observe customers with cards of different categories such as gold, silver, platinum, and blue."
      ],
      "metadata": {
        "id": "J27_IsGkfmhk"
      }
    },
    {
      "cell_type": "markdown",
      "source": [
        "# **5 - Profile of customers with the lowest credit limits.**\n",
        "\n",
        "Query: **select max(credit_limit) as credit_limit, education, card_type, gender from credit where education != 'na' and card_type != 'na' group by education, card_type, gender order by credit_limit asc**\n",
        "\n",
        "[](https://github.com/luizkrawiec/imagens-kaggle-AED-credito/blob/main/query%2011%20perfil%20clientes%20menores%20creditos.jpg?raw=true)\n",
        "\n",
        "- In this analysis, we observe that there are no customers with platinum cards among those with the lowest limits. Additionally, we notice that most customers with the lowest limits are female, while in the cases of the highest limits, males predominate."
      ],
      "metadata": {
        "id": "D2FUatnUfmhl"
      }
    },
    {
      "cell_type": "markdown",
      "source": [
        "# **6 - Spending profile of women**\n",
        "\n",
        "Query: **select max(transaction_value_12m) as highest_spending, avg(transaction_value_12m) as average_spending, min(transaction_value_12m) as lowest_spending, gender from credit group by gender**\n",
        "\n",
        "![](https://github.com/luizkrawiec/imagens-kaggle-AED-credito/blob/main/query%2012%20perfil%20gasto%20mulheres.jpg?raw=true)\n",
        "\n",
        "- Here we see that the spending is almost the same."
      ],
      "metadata": {
        "id": "7D73pgz3fmhl"
      }
    },
    {
      "cell_type": "markdown",
      "source": [
        "# **7 - The impact of salary on the limit.**\n",
        "\n",
        "Query: **select avg(products_quantity) as average_products, avg(transaction_value_12m) as average_transaction_value, avg(credit_limit) as average_limit, gender, annual_salary from credit where annual_salary != 'na' group by gender, annual_salary order by avg(transaction_value_12m) desc**\n",
        "\n",
        "![](https://github.com/luizkrawiec/imagens-kaggle-AED-credito/blob/main/query%2013%20impacto%20salario%20no%20limite.jpg?raw=true)\n",
        "\n",
        "- Confirming that people with lower salary ranges have lower credit limits."
      ],
      "metadata": {
        "id": "69q9UThpfmhl"
      }
    },
    {
      "cell_type": "markdown",
      "source": [
        "# **Some observations:**\n",
        "\n",
        "- Salary range directly impacts the credit limit.\n",
        "- Customers with the lowest limits are mostly women.\n",
        "- Education level seems to have no influence on credit limit or card type.\n",
        "- There are no female customers with annual salaries above 60K.\n",
        "- The majority of customers are male.\n",
        "- Customers with the highest limits are mainly men.\n",
        "- Among customers with the lowest limits, there is no presence of the platinum card.\n",
        "- Most customers have an income of up to 40K.\n"
      ],
      "metadata": {
        "id": "UUDRoYP9fmhm"
      }
    }
  ]
}